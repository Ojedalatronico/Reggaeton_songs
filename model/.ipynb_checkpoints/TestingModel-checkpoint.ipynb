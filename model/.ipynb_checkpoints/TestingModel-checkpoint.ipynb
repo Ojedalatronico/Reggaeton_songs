{
 "cells": [
  {
   "cell_type": "code",
   "execution_count": 4,
   "id": "efccc225",
   "metadata": {},
   "outputs": [],
   "source": [
    "import tensorflow as tf\n",
    "from tensorflow import keras\n",
    "import numpy as np\n",
    "\n",
    "\n",
    "with open(\"letrasfinal.txt\", \"r\") as f:\n",
    "    text=f.read()\n",
    "tokenizer=keras.preprocessing.text.Tokenizer(char_level=True)\n",
    "tokenizer.fit_on_texts(text)\n",
    "\n",
    "max_id=len(tokenizer.word_index)\n",
    "dataset_size=tokenizer.document_count\n",
    "[encoded]=np.array(tokenizer.texts_to_sequences([text]))-1\n",
    "\n",
    "model=keras.models.load_model(\"Example3.h5\")\n",
    "\n",
    "def preprocess(texts):\n",
    "    X=np.array(tokenizer.texts_to_sequences(texts))-1\n",
    "    return tf.one_hot(X,max_id)\n",
    " \n",
    "def next_char(text,temperature=1):\n",
    "    X_new=preprocess([text])\n",
    "    y_proba=model.predict(X_new)[0,-1:,:]\n",
    "    rescaled_logits=tf.math.log(y_proba)/temperature\n",
    "    char_id=tf.random.categorical(rescaled_logits,num_samples=1)+1\n",
    "    return tokenizer.sequences_to_texts(char_id.numpy())[0]\n",
    " \n",
    "def complete_text(text,n_chars=150,temperature=0.5):\n",
    "    for _ in range(n_chars):\n",
    "        text+=next_char(text,temperature)\n",
    "    return text"
   ]
  },
  {
   "cell_type": "code",
   "execution_count": 5,
   "id": "6c21b443",
   "metadata": {},
   "outputs": [
    {
     "name": "stdout",
     "output_type": "stream",
     "text": [
      "Tumba la casa\n",
      "yo no te voy a amor\n",
      "esta el te voy a después y yo quiero dále amiga a la mis solando\n",
      "que no se pase que sales el pode es el afueal\n",
      "que me encanta\n",
      "des\n"
     ]
    }
   ],
   "source": [
    "print(complete_text(\"Tumba la casa\"))"
   ]
  },
  {
   "cell_type": "code",
   "execution_count": null,
   "id": "8c979bff",
   "metadata": {},
   "outputs": [],
   "source": []
  }
 ],
 "metadata": {
  "kernelspec": {
   "display_name": "Python 3 (ipykernel)",
   "language": "python",
   "name": "python3"
  },
  "language_info": {
   "codemirror_mode": {
    "name": "ipython",
    "version": 3
   },
   "file_extension": ".py",
   "mimetype": "text/x-python",
   "name": "python",
   "nbconvert_exporter": "python",
   "pygments_lexer": "ipython3",
   "version": "3.9.7"
  }
 },
 "nbformat": 4,
 "nbformat_minor": 5
}
