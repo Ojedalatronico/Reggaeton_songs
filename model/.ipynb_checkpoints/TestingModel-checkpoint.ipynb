{
 "cells": [
  {
   "cell_type": "code",
   "execution_count": 1,
   "id": "efccc225",
   "metadata": {},
   "outputs": [
    {
     "name": "stderr",
     "output_type": "stream",
     "text": [
      "2022-03-10 21:22:12.780769: W tensorflow/stream_executor/platform/default/dso_loader.cc:64] Could not load dynamic library 'libcudart.so.11.0'; dlerror: libcudart.so.11.0: cannot open shared object file: No such file or directory\n",
      "2022-03-10 21:22:12.780826: I tensorflow/stream_executor/cuda/cudart_stub.cc:29] Ignore above cudart dlerror if you do not have a GPU set up on your machine.\n",
      "2022-03-10 21:22:22.307895: W tensorflow/stream_executor/platform/default/dso_loader.cc:64] Could not load dynamic library 'libcuda.so.1'; dlerror: libcuda.so.1: cannot open shared object file: No such file or directory\n",
      "2022-03-10 21:22:22.308302: W tensorflow/stream_executor/cuda/cuda_driver.cc:269] failed call to cuInit: UNKNOWN ERROR (303)\n",
      "2022-03-10 21:22:22.308484: I tensorflow/stream_executor/cuda/cuda_diagnostics.cc:156] kernel driver does not appear to be running on this host (Portatil-Jesus): /proc/driver/nvidia/version does not exist\n",
      "2022-03-10 21:22:22.311074: I tensorflow/core/platform/cpu_feature_guard.cc:151] This TensorFlow binary is optimized with oneAPI Deep Neural Network Library (oneDNN) to use the following CPU instructions in performance-critical operations:  AVX2 FMA\n",
      "To enable them in other operations, rebuild TensorFlow with the appropriate compiler flags.\n"
     ]
    }
   ],
   "source": [
    "import tensorflow as tf\n",
    "from tensorflow import keras\n",
    "import numpy as np\n",
    "\n",
    "\n",
    "with open(\"letrasfinal.txt\", \"r\") as f:\n",
    "    text=f.read()\n",
    "tokenizer=keras.preprocessing.text.Tokenizer(char_level=True)\n",
    "tokenizer.fit_on_texts(text)\n",
    "\n",
    "max_id=len(tokenizer.word_index)\n",
    "dataset_size=tokenizer.document_count\n",
    "[encoded]=np.array(tokenizer.texts_to_sequences([text]))-1\n",
    "\n",
    "model=keras.models.load_model(\"Example2.h5\")\n",
    "\n",
    "def preprocess(texts):\n",
    "    X=np.array(tokenizer.texts_to_sequences(texts))-1\n",
    "    return tf.one_hot(X,max_id)\n",
    " \n",
    "def next_char(text,temperature=1):\n",
    "    X_new=preprocess([text])\n",
    "    y_proba=model.predict(X_new)[0,-1:,:]\n",
    "    rescaled_logits=tf.math.log(y_proba)/temperature\n",
    "    char_id=tf.random.categorical(rescaled_logits,num_samples=1)+1\n",
    "    return tokenizer.sequences_to_texts(char_id.numpy())[0]\n",
    " \n",
    "def complete_text(text,n_chars=100,temperature=0.4):\n",
    "    for _ in range(n_chars):\n",
    "        text+=next_char(text,temperature)\n",
    "    return text"
   ]
  },
  {
   "cell_type": "code",
   "execution_count": 2,
   "id": "6c21b443",
   "metadata": {},
   "outputs": [
    {
     "name": "stdout",
     "output_type": "stream",
     "text": [
      "Testo de las con las perrare a mi complando rellerar\n",
      "perreo \n",
      "sea me dejame en la esperde que sabe pero de\n"
     ]
    }
   ],
   "source": [
    "print(complete_text(\"Testo\"))"
   ]
  }
 ],
 "metadata": {
  "kernelspec": {
   "display_name": "Python 3 (ipykernel)",
   "language": "python",
   "name": "python3"
  },
  "language_info": {
   "codemirror_mode": {
    "name": "ipython",
    "version": 3
   },
   "file_extension": ".py",
   "mimetype": "text/x-python",
   "name": "python",
   "nbconvert_exporter": "python",
   "pygments_lexer": "ipython3",
   "version": "3.9.7"
  }
 },
 "nbformat": 4,
 "nbformat_minor": 5
}
